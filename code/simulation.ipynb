{
 "metadata": {
  "language_info": {
   "codemirror_mode": {
    "name": "ipython",
    "version": 3
   },
   "file_extension": ".py",
   "mimetype": "text/x-python",
   "name": "python",
   "nbconvert_exporter": "python",
   "pygments_lexer": "ipython3",
   "version": "3.8.2-final"
  },
  "orig_nbformat": 2,
  "kernelspec": {
   "name": "python3",
   "display_name": "Python 3"
  }
 },
 "nbformat": 4,
 "nbformat_minor": 2,
 "cells": [
  {
   "source": [
    "# 4M24 - MCMC Simulation"
   ],
   "cell_type": "markdown",
   "metadata": {}
  },
  {
   "cell_type": "code",
   "execution_count": 2,
   "metadata": {},
   "outputs": [],
   "source": [
    "import numpy as np\n",
    "import matplotlib.pyplot as plt\n",
    "from cw_functions import *"
   ]
  },
  {
   "source": [
    "## a) GP prior samples and data overlay"
   ],
   "cell_type": "markdown",
   "metadata": {}
  },
  {
   "cell_type": "code",
   "execution_count": null,
   "metadata": {},
   "outputs": [],
   "source": [
    "# GENERATE DATA\n",
    "seed = 0\n",
    "np.random.seed(seed)\n",
    "\n",
    "### Inference grid defining {ui}i=1,Nx*Ny\n",
    "Nx = 16 # equivalent of D\n",
    "Ny = 16\n",
    "N = Nx * Ny     # Total number of coordinates\n",
    "points = [(x, y) for y in np.arange(Nx) for x in np.arange(Ny)]                # Indexes for the inference grid\n",
    "coords = [(x, y) for y in np.linspace(0,1,Ny) for x in np.linspace(0,1,Nx)]    # Coordinates for the inference grid\n",
    "xi, yi = np.array([c[0] for c in points]), np.array([c[1] for c in points])    # Get x, y index lists\n",
    "x, y = np.array([c[0] for c in coords]), np.array([c[1] for c in coords])      # Get x, y coordinate lists\n",
    "\n",
    "### Data grid defining {vi}i=1,Dx*Dy subsampled from inference grid\n",
    "subsample_factor = 4\n",
    "idx = subsample(N, subsample_factor)\n",
    "M = len(idx)                                                                   # Total number of data points\n",
    "\n",
    "### Generate K, the covariance of the Gaussian process, and sample from N(0,K) using a stable Cholesky decomposition\n",
    "l = 0.3\n",
    "C = GaussianKernel(coords, l)\n",
    "z = np.random.randn(N)\n",
    "Cc = np.linalg.cholesky(C + 1e-6 * np.eye(N))\n",
    "u = Cc @ z\n",
    "\n",
    "### Observation model: v = G(u) + e,   e~N(0,I)\n",
    "G = get_G(N, idx)\n",
    "v = G @ u + np.random.randn(M)"
   ]
  }
 ]
}